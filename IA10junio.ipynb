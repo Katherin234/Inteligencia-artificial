{
  "nbformat": 4,
  "nbformat_minor": 0,
  "metadata": {
    "colab": {
      "provenance": [],
      "authorship_tag": "ABX9TyOq4+KopoJ7rf7SPCFWNXqr",
      "include_colab_link": true
    },
    "kernelspec": {
      "name": "python3",
      "display_name": "Python 3"
    },
    "language_info": {
      "name": "python"
    }
  },
  "cells": [
    {
      "cell_type": "markdown",
      "metadata": {
        "id": "view-in-github",
        "colab_type": "text"
      },
      "source": [
        "<a href=\"https://colab.research.google.com/github/Katherin234/Inteligencia-artificial/blob/main/IA10junio.ipynb\" target=\"_parent\"><img src=\"https://colab.research.google.com/assets/colab-badge.svg\" alt=\"Open In Colab\"/></a>"
      ]
    },
    {
      "cell_type": "code",
      "execution_count": null,
      "metadata": {
        "id": "sT3fa52GC2YH"
      },
      "outputs": [],
      "source": [
        "myNumber= 3\n",
        "myNumberDecimal=3.6\n",
        "state=True"
      ]
    },
    {
      "cell_type": "code",
      "source": [
        "print(f'valor entero={myNumber}')\n",
        "print('valor entero es =',myNumber)\n",
        "print(f'valor decimal={myNumberDecimal}')\n",
        "print('valor bool es =', state)"
      ],
      "metadata": {
        "colab": {
          "base_uri": "https://localhost:8080/"
        },
        "id": "Jk1aNttZDYDr",
        "outputId": "fcd2ceb0-911b-4a6c-bbf2-171007d7474a"
      },
      "execution_count": null,
      "outputs": [
        {
          "output_type": "stream",
          "name": "stdout",
          "text": [
            "valor entero=3\n",
            "valor entero es = 3\n",
            "valor decimal=3.6\n",
            "valor bool es = True\n"
          ]
        }
      ]
    },
    {
      "cell_type": "code",
      "source": [
        "aux1=10\n",
        "aux2=2\n",
        "\n",
        "print('la suma de la variables aux1 + aux2 =', aux1+aux2)"
      ],
      "metadata": {
        "colab": {
          "base_uri": "https://localhost:8080/"
        },
        "id": "TwSvAXiEEgns",
        "outputId": "9a7dd0bf-d922-4d7c-a405-e599e3ca7c49"
      },
      "execution_count": null,
      "outputs": [
        {
          "output_type": "stream",
          "name": "stdout",
          "text": [
            "la suma de la variables aux1 + aux2 = 12\n"
          ]
        }
      ]
    },
    {
      "cell_type": "code",
      "source": [
        "resultado = aux1 ** aux2\n",
        "\n",
        "print(resultado)"
      ],
      "metadata": {
        "colab": {
          "base_uri": "https://localhost:8080/"
        },
        "id": "3P7NMBl4FARE",
        "outputId": "a78e4ba9-a5e4-4588-dc03-62837e4e1f17"
      },
      "execution_count": null,
      "outputs": [
        {
          "output_type": "stream",
          "name": "stdout",
          "text": [
            "100\n"
          ]
        }
      ]
    },
    {
      "cell_type": "code",
      "source": [
        "var1='Hola'\n",
        "var2='!, Katherine'\n",
        "\n",
        "print(var1+var2)"
      ],
      "metadata": {
        "colab": {
          "base_uri": "https://localhost:8080/"
        },
        "id": "nm7G0QY9F5rd",
        "outputId": "fd34880c-7df8-4595-b6ff-84d138736799"
      },
      "execution_count": null,
      "outputs": [
        {
          "output_type": "stream",
          "name": "stdout",
          "text": [
            "Hola!, Katherine\n"
          ]
        }
      ]
    },
    {
      "cell_type": "code",
      "source": [
        "print(3*var1)"
      ],
      "metadata": {
        "colab": {
          "base_uri": "https://localhost:8080/"
        },
        "id": "mUp2bWJEGjm9",
        "outputId": "ab567af8-3316-49eb-a6b4-f8fa7f2cc7b4"
      },
      "execution_count": null,
      "outputs": [
        {
          "output_type": "stream",
          "name": "stdout",
          "text": [
            "HolaHolaHola\n"
          ]
        }
      ]
    },
    {
      "cell_type": "code",
      "source": [
        "Number1=10\n",
        "Number2=10.5\n"
      ],
      "metadata": {
        "id": "snfzH8KmGqgV"
      },
      "execution_count": null,
      "outputs": []
    },
    {
      "cell_type": "code",
      "source": [
        "print('el tipo de numero es:',type(Number1))"
      ],
      "metadata": {
        "colab": {
          "base_uri": "https://localhost:8080/"
        },
        "id": "Q1cFDv_5G428",
        "outputId": "13247073-65d4-43a7-bfd7-bb4d23a00085"
      },
      "execution_count": null,
      "outputs": [
        {
          "output_type": "stream",
          "name": "stdout",
          "text": [
            "el tipo de numero es: <class 'int'>\n"
          ]
        }
      ]
    },
    {
      "cell_type": "code",
      "source": [
        "print('el tipo de numero es:',type(Number2))"
      ],
      "metadata": {
        "colab": {
          "base_uri": "https://localhost:8080/"
        },
        "id": "PfgOpLv4HRql",
        "outputId": "5b462c14-0e46-44f1-e865-96ab54975e74"
      },
      "execution_count": null,
      "outputs": [
        {
          "output_type": "stream",
          "name": "stdout",
          "text": [
            "el tipo de numero es: <class 'float'>\n"
          ]
        }
      ]
    }
  ]
}