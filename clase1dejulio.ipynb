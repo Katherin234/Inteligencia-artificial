{
  "nbformat": 4,
  "nbformat_minor": 0,
  "metadata": {
    "colab": {
      "provenance": [],
      "authorship_tag": "ABX9TyMiJiUpOcCLsMgRmvHspWCl",
      "include_colab_link": true
    },
    "kernelspec": {
      "name": "python3",
      "display_name": "Python 3"
    },
    "language_info": {
      "name": "python"
    }
  },
  "cells": [
    {
      "cell_type": "markdown",
      "metadata": {
        "id": "view-in-github",
        "colab_type": "text"
      },
      "source": [
        "<a href=\"https://colab.research.google.com/github/Katherin234/Inteligencia-artificial/blob/main/clase1dejulio.ipynb\" target=\"_parent\"><img src=\"https://colab.research.google.com/assets/colab-badge.svg\" alt=\"Open In Colab\"/></a>"
      ]
    },
    {
      "cell_type": "code",
      "execution_count": null,
      "metadata": {
        "colab": {
          "base_uri": "https://localhost:8080/"
        },
        "id": "PMoixsm27Nms",
        "outputId": "8bce3b88-974c-4066-acf9-a1399fd7d41c"
      },
      "outputs": [
        {
          "output_type": "stream",
          "name": "stdout",
          "text": [
            "(3,)\n",
            "<class 'numpy.ndarray'>\n",
            "[11 22 33]\n",
            "22\n",
            "[11 22]\n",
            "[22 33]\n",
            "[ 11 888  33]\n"
          ]
        }
      ],
      "source": [
        "#arreglos en 1 dimension se llaman vectores\n",
        "import numpy as algebraLineal\n",
        "\n",
        "a=algebraLineal.array([11,22,33])\n",
        "print(a.shape)\n",
        "print(type (a))\n",
        "print(a)\n",
        "\n",
        "print(a[1])\n",
        "print(a[:2])\n",
        "print(a[1:])\n",
        "\n",
        "a[1] = 888\n",
        "print(a)\n"
      ]
    },
    {
      "cell_type": "code",
      "source": [
        "b=algebraLineal.array([[1,2,3],[11,22,33],[111,222,333]])\n",
        "print(b.shape)\n",
        "print(type (b))\n",
        "print('Matriz 1')\n",
        "print(b)\n",
        "\n",
        "print(b[1,1])\n",
        "\n",
        "\n",
        "aux=b[1:,1:].copy()\n",
        "print(aux.shape)\n",
        "print('Matriz 2')\n",
        "print(aux)\n",
        "\n",
        "aux[1, 1] = 1000\n",
        "print('Matriz 1')\n",
        "print(b)\n",
        "print('Matriz 2')\n",
        "print(aux)"
      ],
      "metadata": {
        "colab": {
          "base_uri": "https://localhost:8080/"
        },
        "id": "KRz-iP8JAbtz",
        "outputId": "c20c506d-a54d-443b-f1d4-b170b938db0c"
      },
      "execution_count": null,
      "outputs": [
        {
          "output_type": "stream",
          "name": "stdout",
          "text": [
            "(3, 3)\n",
            "<class 'numpy.ndarray'>\n",
            "Matriz 1\n",
            "[[  1   2   3]\n",
            " [ 11  22  33]\n",
            " [111 222 333]]\n",
            "22\n",
            "(2, 2)\n",
            "Matriz 2\n",
            "[[ 22  33]\n",
            " [222 333]]\n",
            "Matriz 1\n",
            "[[  1   2   3]\n",
            " [ 11  22  33]\n",
            " [111 222 333]]\n",
            "Matriz 2\n",
            "[[  22   33]\n",
            " [ 222 1000]]\n"
          ]
        }
      ]
    },
    {
      "cell_type": "code",
      "source": [
        "c=algebraLineal.zeros((4,4))\n",
        "print(c)\n",
        "print(c.shape)\n",
        "d=algebraLineal.full((4,4),9)\n",
        "print(d)"
      ],
      "metadata": {
        "colab": {
          "base_uri": "https://localhost:8080/"
        },
        "id": "etWQilnjDuLj",
        "outputId": "c148bf72-d72f-45c5-a5a6-ed9ca1455842"
      },
      "execution_count": null,
      "outputs": [
        {
          "output_type": "stream",
          "name": "stdout",
          "text": [
            "[[0. 0. 0. 0.]\n",
            " [0. 0. 0. 0.]\n",
            " [0. 0. 0. 0.]\n",
            " [0. 0. 0. 0.]]\n",
            "(4, 4)\n",
            "[[9 9 9 9]\n",
            " [9 9 9 9]\n",
            " [9 9 9 9]\n",
            " [9 9 9 9]]\n"
          ]
        }
      ]
    },
    {
      "cell_type": "code",
      "source": [
        "e=algebraLineal.eye(3,3)\n",
        "print(e)\n",
        "f=algebraLineal.ones((4,5))\n",
        "print(f)"
      ],
      "metadata": {
        "colab": {
          "base_uri": "https://localhost:8080/"
        },
        "id": "aV8endWiEa-D",
        "outputId": "66487810-51e5-4373-d2d7-d23835fc4939"
      },
      "execution_count": null,
      "outputs": [
        {
          "output_type": "stream",
          "name": "stdout",
          "text": [
            "[[1. 0. 0.]\n",
            " [0. 1. 0.]\n",
            " [0. 0. 1.]]\n",
            "[[1. 1. 1. 1. 1.]\n",
            " [1. 1. 1. 1. 1.]\n",
            " [1. 1. 1. 1. 1.]\n",
            " [1. 1. 1. 1. 1.]]\n"
          ]
        }
      ]
    },
    {
      "cell_type": "code",
      "source": [
        "g=algebraLineal.random.random((5,5))\n",
        "print(g)"
      ],
      "metadata": {
        "colab": {
          "base_uri": "https://localhost:8080/"
        },
        "id": "Fo-h6VyxFD4M",
        "outputId": "aa02b2b7-f8d7-4ba7-bab9-002e711b7140"
      },
      "execution_count": null,
      "outputs": [
        {
          "output_type": "stream",
          "name": "stdout",
          "text": [
            "[[1.65588008e-01 3.60811330e-01 9.69311256e-01 2.43776067e-01\n",
            "  6.73310038e-01]\n",
            " [4.08007757e-01 7.08031468e-01 2.00398004e-04 9.86740134e-01\n",
            "  8.19939689e-01]\n",
            " [6.75809238e-01 3.10246334e-01 7.34903063e-01 5.12881293e-01\n",
            "  3.62082227e-01]\n",
            " [8.05413301e-01 1.21448598e-01 1.66352013e-02 7.08208398e-01\n",
            "  2.67830753e-01]\n",
            " [5.45547270e-02 8.30263702e-01 2.40588092e-01 4.49114537e-01\n",
            "  6.04318533e-01]]\n"
          ]
        }
      ]
    },
    {
      "cell_type": "code",
      "source": [
        "t=algebraLineal.random.randint(1,20,(4,4))\n",
        "print(t)\n",
        "filas=algrebraLineal.array([0,1,2,3])\n",
        "columnas=algrebraLineal.arange(4)\n",
        "print(filas)\n",
        "print(columnas)\n",
        "\n",
        "t[filas, columnas] = 100\n",
        "\n",
        "\n",
        "print(t)"
      ],
      "metadata": {
        "colab": {
          "base_uri": "https://localhost:8080/"
        },
        "id": "fE_9NbnDFsKz",
        "outputId": "798dc8de-fc9b-422c-c960-3a8c9c36cce4"
      },
      "execution_count": null,
      "outputs": [
        {
          "output_type": "stream",
          "name": "stdout",
          "text": [
            "[[ 1 16 12 17]\n",
            " [14 19  5 11]\n",
            " [12 12 10 10]\n",
            " [19  8 18  4]]\n",
            "[0 1 2 3]\n",
            "[0 1 2 3]\n",
            "[[100  16  12  17]\n",
            " [ 14 100   5  11]\n",
            " [ 12  12 100  10]\n",
            " [ 19   8  18 100]]\n"
          ]
        }
      ]
    },
    {
      "cell_type": "code",
      "source": [
        "t=algebraLineal.random.randint(20,51,(6,6))\n",
        "print(t)"
      ],
      "metadata": {
        "colab": {
          "base_uri": "https://localhost:8080/"
        },
        "id": "iYz_GUhEKLK1",
        "outputId": "d0929732-49f4-4d57-ef05-9ced0a117502"
      },
      "execution_count": null,
      "outputs": [
        {
          "output_type": "stream",
          "name": "stdout",
          "text": [
            "[[48 50 23 33 30 38]\n",
            " [43 38 35 48 49 22]\n",
            " [23 30 38 35 34 20]\n",
            " [41 23 22 38 44 45]\n",
            " [33 29 39 35 20 27]\n",
            " [34 29 36 47 50 26]]\n"
          ]
        }
      ]
    },
    {
      "cell_type": "code",
      "source": [
        "filter=(t>45)\n",
        "print(filter)\n",
        "\n",
        "\n",
        "print(t[filter])\n"
      ],
      "metadata": {
        "colab": {
          "base_uri": "https://localhost:8080/"
        },
        "id": "xUlWr2MLKx4o",
        "outputId": "a84743fc-5790-4740-9f00-4d2b6228ea9d"
      },
      "execution_count": null,
      "outputs": [
        {
          "output_type": "stream",
          "name": "stdout",
          "text": [
            "[[ True  True False False False False]\n",
            " [False False False  True  True False]\n",
            " [False False False False False False]\n",
            " [False False False False False False]\n",
            " [False False False False False False]\n",
            " [False False False  True  True False]]\n",
            "[48 50 48 49 47 50]\n"
          ]
        }
      ]
    },
    {
      "cell_type": "code",
      "source": [
        "t=algebraLineal.random.randint(1,101,(10,10))\n",
        "print(t)\n"
      ],
      "metadata": {
        "colab": {
          "base_uri": "https://localhost:8080/"
        },
        "id": "gj5GXpebMYIy",
        "outputId": "1579d6b1-4c1e-4292-e7d5-f6e62280c242"
      },
      "execution_count": null,
      "outputs": [
        {
          "output_type": "stream",
          "name": "stdout",
          "text": [
            "[[29 98 24 25 50 94 42 84 16 95]\n",
            " [31 21 79 68 78 48 53 83 45 76]\n",
            " [80 41 82 23 99 41 74 27  5  2]\n",
            " [98 20 91 77 26 77 24 32 75 78]\n",
            " [28 83  4 51 88 33 20  5  6 30]\n",
            " [22 37 86 96 88 92 12 35 61 44]\n",
            " [94 79  3 79 87 53 26 11 67 15]\n",
            " [ 8 94 86 94 43 85 46 56 67 32]\n",
            " [39 93 97 49 13 36 66  6 17 85]\n",
            " [ 6 14 92 85  4 13 24  3 53 23]]\n"
          ]
        }
      ]
    },
    {
      "cell_type": "code",
      "source": [
        "filter=(t%2==0)\n",
        "print(filter)\n",
        "print(t[filter])"
      ],
      "metadata": {
        "colab": {
          "base_uri": "https://localhost:8080/"
        },
        "id": "azL9mZEBNtlo",
        "outputId": "3a0959d5-9d29-4062-9b45-d2f13331f3a7"
      },
      "execution_count": null,
      "outputs": [
        {
          "output_type": "stream",
          "name": "stdout",
          "text": [
            "[[False  True  True False  True  True  True  True  True False]\n",
            " [False False False  True  True  True False False False  True]\n",
            " [ True False  True False False False  True False False  True]\n",
            " [ True  True False False  True False  True  True False  True]\n",
            " [ True False  True False  True False  True False  True  True]\n",
            " [ True False  True  True  True  True  True False False  True]\n",
            " [ True False False False False False  True False False False]\n",
            " [ True  True  True  True False False  True  True False  True]\n",
            " [False False False False False  True  True  True False False]\n",
            " [ True  True  True False  True False  True False False False]]\n",
            "[98 24 50 94 42 84 16 68 78 48 76 80 82 74  2 98 20 26 24 32 78 28  4 88\n",
            " 20  6 30 22 86 96 88 92 12 44 94 26  8 94 86 94 46 56 32 36 66  6  6 14\n",
            " 92  4 24]\n"
          ]
        }
      ]
    },
    {
      "cell_type": "code",
      "source": [
        "t3=algebraLineal.array([1,2,3,4,5],dtype=algebraLineal.float64)\n",
        "print(t3.dtype)"
      ],
      "metadata": {
        "colab": {
          "base_uri": "https://localhost:8080/"
        },
        "id": "4X3naJhKObsY",
        "outputId": "c90e0065-50a2-4b48-a327-f73cdd01a0db"
      },
      "execution_count": null,
      "outputs": [
        {
          "output_type": "stream",
          "name": "stdout",
          "text": [
            "float64\n"
          ]
        }
      ]
    },
    {
      "cell_type": "code",
      "source": [
        "x=algebraLineal.array([[1,2],[11,55]])\n",
        "y=algebraLineal.array([[44,88],[66,45]])\n",
        "print(x)\n",
        "print(y)\n",
        "\n",
        "print(algebraLineal.add(x,y))\n",
        "print(algebraLineal.subtract(x,y))\n",
        "print(algebraLineal.multiply(x,y))\n",
        "print(algebraLineal.divide(x,y))\n",
        "print(algebraLineal.sqrt(x))\n"
      ],
      "metadata": {
        "colab": {
          "base_uri": "https://localhost:8080/"
        },
        "id": "d-yPUyP3PHS9",
        "outputId": "086a9ddf-1964-4e78-cc38-d8f49bb9abd1"
      },
      "execution_count": null,
      "outputs": [
        {
          "output_type": "stream",
          "name": "stdout",
          "text": [
            "[[ 1  2]\n",
            " [11 55]]\n",
            "[[44 88]\n",
            " [66 45]]\n",
            "[[ 45  90]\n",
            " [ 77 100]]\n",
            "[[-43 -86]\n",
            " [-55  10]]\n",
            "[[  44  176]\n",
            " [ 726 2475]]\n",
            "[[0.02272727 0.02272727]\n",
            " [0.16666667 1.22222222]]\n",
            "[[1.         1.41421356]\n",
            " [3.31662479 7.41619849]]\n"
          ]
        }
      ]
    },
    {
      "cell_type": "code",
      "source": [
        "t=algebraLineal.random.randint(1,10,(2,5))\n",
        "print(t)\n",
        "aux=t.mean()\n",
        "print(aux)\n",
        "aux=t.mean(axis=0)\n",
        "print(aux)\n",
        "aux=t.mean(axis=1)\n",
        "print(aux)"
      ],
      "metadata": {
        "colab": {
          "base_uri": "https://localhost:8080/"
        },
        "id": "Lu1VV2BvPVIU",
        "outputId": "36fc7020-e742-48d5-dfc5-a3bd6cea2eec"
      },
      "execution_count": null,
      "outputs": [
        {
          "output_type": "stream",
          "name": "stdout",
          "text": [
            "[[1 9 5 4 1]\n",
            " [7 5 6 6 9]]\n",
            "5.3\n",
            "[4.  7.  5.5 5.  5. ]\n",
            "[4.  6.6]\n"
          ]
        }
      ]
    },
    {
      "cell_type": "code",
      "source": [
        "import numpy as np\n",
        "a=np.random.randint(1,10,(3,4))\n",
        "print(a)\n",
        "#promedio\n",
        "t=np.mean(a)\n",
        "print(t)\n",
        "print(a.mean())\n",
        "\n",
        "#promedio por filas\n",
        "t=a.mean(axis=1)\n",
        "print(t)\n",
        "#promedio por columnas\n",
        "t=a.mean(axis=0)\n",
        "print(t)\n",
        "#suma de los valores de la matriz\n",
        "aux=a.sum()\n",
        "print(aux)\n",
        "#calcular la mediana\n",
        "mediana=np.median(a,axis=1)\n",
        "print(mediana)"
      ],
      "metadata": {
        "colab": {
          "base_uri": "https://localhost:8080/"
        },
        "id": "EAo0cqIUo5pM",
        "outputId": "efe763c2-c2f8-43a6-a19b-4cdfa1635c28"
      },
      "execution_count": null,
      "outputs": [
        {
          "output_type": "stream",
          "name": "stdout",
          "text": [
            "[[3 6 4 8]\n",
            " [3 8 3 8]\n",
            " [1 8 3 4]]\n",
            "4.916666666666667\n",
            "4.916666666666667\n",
            "[5.25 5.5  4.  ]\n",
            "[2.33333333 7.33333333 3.33333333 6.66666667]\n",
            "59\n",
            "[5.  5.5 3.5]\n"
          ]
        }
      ]
    },
    {
      "cell_type": "code",
      "source": [
        "#Ordenar vectores SORTING\n",
        "b=np.random.randn(10)\n",
        "print(b)\n",
        "print(b.shape)\n",
        "b.sort()\n",
        "print(b)"
      ],
      "metadata": {
        "colab": {
          "base_uri": "https://localhost:8080/"
        },
        "id": "gktgLhe3pRmx",
        "outputId": "168435df-3864-4f30-d5cf-4cf876f9b117"
      },
      "execution_count": null,
      "outputs": [
        {
          "output_type": "stream",
          "name": "stdout",
          "text": [
            "[-0.65563775  0.50609712  0.57221533 -0.31254588  0.70631601  0.34236772\n",
            " -0.31177156 -0.32867338 -1.25719292  1.04057677]\n",
            "(10,)\n",
            "[-1.25719292 -0.65563775 -0.32867338 -0.31254588 -0.31177156  0.34236772\n",
            "  0.50609712  0.57221533  0.70631601  1.04057677]\n"
          ]
        }
      ]
    },
    {
      "cell_type": "code",
      "source": [
        "c=np.array([2,5,1,6,3,5,5,5,4,7,8,9])\n",
        "print(np.unique(c))\n",
        "print(c.shape)\n",
        "c.sort()\n",
        "print(c)"
      ],
      "metadata": {
        "colab": {
          "base_uri": "https://localhost:8080/"
        },
        "id": "0RgZCylVryBF",
        "outputId": "77e5a976-71b5-4952-ee49-a928f77e6ead"
      },
      "execution_count": null,
      "outputs": [
        {
          "output_type": "stream",
          "name": "stdout",
          "text": [
            "[1 2 3 4 5 6 7 8 9]\n",
            "(12,)\n",
            "[1 2 3 4 5 5 5 5 6 7 8 9]\n"
          ]
        }
      ]
    },
    {
      "cell_type": "code",
      "source": [
        "palabra1=np.array(['desk','chair','bulb'])\n",
        "palabra2=np.array(['lamp','bulb','chair'])\n",
        "t=np.intersect1d(palabra1,palabra2)\n",
        "print(t)\n",
        "t2=np.union1d(palabra1,palabra2)\n",
        "print(t2)\n",
        "#elementos no presentes en el contenedor 1\n",
        "t3=np.setdiff1d(palabra1,palabra2)\n",
        "print(t3)\n",
        "t4=np.in1d(palabra1,palabra2)\n",
        "print(t4)\n",
        "#"
      ],
      "metadata": {
        "colab": {
          "base_uri": "https://localhost:8080/"
        },
        "id": "SEdk9zocsXP5",
        "outputId": "9fdfe78b-1825-4027-b9ce-72ceafeecb4d"
      },
      "execution_count": null,
      "outputs": [
        {
          "output_type": "stream",
          "name": "stdout",
          "text": [
            "['bulb' 'chair']\n",
            "['bulb' 'chair' 'desk' 'lamp']\n",
            "['desk']\n",
            "[False  True  True]\n"
          ]
        }
      ]
    },
    {
      "cell_type": "code",
      "source": [
        "matriz = np.zeros((4, 3))\n",
        "print(matriz)\n",
        "\n",
        "\n",
        "replica=np.array([1,2,1])\n",
        "matriz=matriz+replica\n",
        "print(matriz)\n",
        "\n",
        "replicaColumna=np.array([10,10,10])\n",
        "print(replicaColumna.shape)\n",
        "replicaColumna=np.reshape(replicaColumna,(3,1))\n",
        "print(replicaColumna.shape)\n",
        "matriz = np.zeros((3, 3))\n",
        "matriz1=replicaColumna+matriz\n",
        "print(matriz1)\n",
        "\n",
        "#Matriz de con numeros 45\n",
        "\n",
        "vector=np.array([45])\n",
        "matrixZeros=np.zeros((5,5))\n",
        "print(matrixZeros)\n",
        "\n",
        "print(matrixZeros+vector)"
      ],
      "metadata": {
        "colab": {
          "base_uri": "https://localhost:8080/"
        },
        "id": "RD-QFmK9udxE",
        "outputId": "0f2eb75c-1b2e-40d3-f915-fc48ef70ddcf"
      },
      "execution_count": null,
      "outputs": [
        {
          "output_type": "stream",
          "name": "stdout",
          "text": [
            "[[0. 0. 0.]\n",
            " [0. 0. 0.]\n",
            " [0. 0. 0.]\n",
            " [0. 0. 0.]]\n",
            "[[1. 2. 1.]\n",
            " [1. 2. 1.]\n",
            " [1. 2. 1.]\n",
            " [1. 2. 1.]]\n",
            "(3,)\n",
            "(3, 1)\n",
            "[[10. 10. 10.]\n",
            " [10. 10. 10.]\n",
            " [10. 10. 10.]]\n",
            "[[0. 0. 0. 0. 0.]\n",
            " [0. 0. 0. 0. 0.]\n",
            " [0. 0. 0. 0. 0.]\n",
            " [0. 0. 0. 0. 0.]\n",
            " [0. 0. 0. 0. 0.]]\n",
            "[[45. 45. 45. 45. 45.]\n",
            " [45. 45. 45. 45. 45.]\n",
            " [45. 45. 45. 45. 45.]\n",
            " [45. 45. 45. 45. 45.]\n",
            " [45. 45. 45. 45. 45.]]\n"
          ]
        }
      ]
    }
  ]
}