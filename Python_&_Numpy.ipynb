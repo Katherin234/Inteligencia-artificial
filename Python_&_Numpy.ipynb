{
  "nbformat": 4,
  "nbformat_minor": 0,
  "metadata": {
    "colab": {
      "provenance": [],
      "authorship_tag": "ABX9TyNmEQsNL4S72VFCCoTHdCEO",
      "include_colab_link": true
    },
    "kernelspec": {
      "name": "python3",
      "display_name": "Python 3"
    },
    "language_info": {
      "name": "python"
    }
  },
  "cells": [
    {
      "cell_type": "markdown",
      "metadata": {
        "id": "view-in-github",
        "colab_type": "text"
      },
      "source": [
        "<a href=\"https://colab.research.google.com/github/Katherin234/Inteligencia-artificial/blob/main/Python_%26_Numpy.ipynb\" target=\"_parent\"><img src=\"https://colab.research.google.com/assets/colab-badge.svg\" alt=\"Open In Colab\"/></a>"
      ]
    },
    {
      "cell_type": "code",
      "execution_count": null,
      "metadata": {
        "colab": {
          "base_uri": "https://localhost:8080/"
        },
        "id": "ZgocKigKuhoL",
        "outputId": "f3354f27-bc52-4198-ffd8-0de726cf71c3"
      },
      "outputs": [
        {
          "output_type": "stream",
          "name": "stdout",
          "text": [
            "1.25.2\n"
          ]
        }
      ],
      "source": [
        "# Importar numpy ver la version\n",
        "import numpy as np\n",
        "\n",
        "version = np.__version__\n",
        "print(version)"
      ]
    },
    {
      "cell_type": "code",
      "source": [
        "#Crear una matriz de una dimension\n",
        "Matriz1D = np.arange(10)\n",
        "print(Matriz1D)\n"
      ],
      "metadata": {
        "colab": {
          "base_uri": "https://localhost:8080/"
        },
        "id": "GABrMoI5unpB",
        "outputId": "09fcd057-7147-4861-db82-dd080cf19899"
      },
      "execution_count": null,
      "outputs": [
        {
          "output_type": "stream",
          "name": "stdout",
          "text": [
            "[0 1 2 3 4 5 6 7 8 9]\n"
          ]
        }
      ]
    },
    {
      "cell_type": "code",
      "source": [
        "#Cree un vector aleatorio de tamaño 10 y reemplace el valor máximo por 0\n",
        "vector = np.random.randint(0, 100,(10))\n",
        "print(vector)\n",
        "valor_maximo = vector.max()\n",
        "vector[vector == valor_maximo] = 0\n",
        "print(vector)"
      ],
      "metadata": {
        "colab": {
          "base_uri": "https://localhost:8080/"
        },
        "id": "QWHW7qJ-yB13",
        "outputId": "8634eb0d-30a4-49c3-b59f-f25fcbbd53c8"
      },
      "execution_count": null,
      "outputs": [
        {
          "output_type": "stream",
          "name": "stdout",
          "text": [
            "[97 50 51 36  9  0 43 95 72 28]\n",
            "[ 0 50 51 36  9  0 43 95 72 28]\n"
          ]
        }
      ]
    },
    {
      "cell_type": "code",
      "source": [
        "#Imprima el número 8 de la siguiente matriz:\n",
        "matriz = np.array([[1,2,3,4,5], [6,7,8,9,10]])\n",
        "print(matriz[1,2])"
      ],
      "metadata": {
        "colab": {
          "base_uri": "https://localhost:8080/"
        },
        "id": "yU9J66TfysNw",
        "outputId": "80703690-17d2-466c-d488-f879b4a01c7f"
      },
      "execution_count": null,
      "outputs": [
        {
          "output_type": "stream",
          "name": "stdout",
          "text": [
            "8\n"
          ]
        }
      ]
    },
    {
      "cell_type": "code",
      "source": [
        "#Imprima los números [3, 4, 5] de la siguiente matriz:\n",
        "matriz = np.arange(8)\n",
        "print(matriz[3:6])"
      ],
      "metadata": {
        "colab": {
          "base_uri": "https://localhost:8080/"
        },
        "id": "eo0Spq8i18RC",
        "outputId": "b2e827d1-72ec-474f-a5d2-23ae2d6be235"
      },
      "execution_count": null,
      "outputs": [
        {
          "output_type": "stream",
          "name": "stdout",
          "text": [
            "[3 4 5]\n"
          ]
        }
      ]
    },
    {
      "cell_type": "code",
      "source": [
        "# Imprime los últimos 4 números de la siguiente matriz:\n",
        "matriz = np.arange(8)\n",
        "print(matriz)\n",
        "\n",
        "print(matriz[6])\n",
        "\n",
        "print(matriz[-4:])"
      ],
      "metadata": {
        "colab": {
          "base_uri": "https://localhost:8080/"
        },
        "id": "wMjWlIJP264h",
        "outputId": "6c0b6241-db87-4365-aa2e-7f169c927ba0"
      },
      "execution_count": null,
      "outputs": [
        {
          "output_type": "stream",
          "name": "stdout",
          "text": [
            "[0 1 2 3 4 5 6 7]\n",
            "6\n",
            "[4 5 6 7]\n"
          ]
        }
      ]
    },
    {
      "cell_type": "code",
      "source": [
        "#Crea una matriz numérica de 3 × 3 de todos los True\n",
        "matriz = np.full((3, 3), True, dtype=bool)\n",
        "print(matriz)"
      ],
      "metadata": {
        "colab": {
          "base_uri": "https://localhost:8080/"
        },
        "id": "xCCWnke-3B0h",
        "outputId": "51e62b49-f2d7-4f7a-a900-6c1c15b4fc18"
      },
      "execution_count": null,
      "outputs": [
        {
          "output_type": "stream",
          "name": "stdout",
          "text": [
            "[[ True  True  True]\n",
            " [ True  True  True]\n",
            " [ True  True  True]]\n"
          ]
        }
      ]
    },
    {
      "cell_type": "code",
      "source": [
        "#Extrae todos los números pares de arr\n",
        "\n",
        "arr = np.arange(10)\n",
        "print(arr)\n",
        "impares = arr [arr % 2p!= 0]\n",
        "print(impares)"
      ],
      "metadata": {
        "colab": {
          "base_uri": "https://localhost:8080/"
        },
        "id": "-TfPg0Ib3mv3",
        "outputId": "04b2227f-2cf2-4908-83c4-cc6acfe48ba2"
      },
      "execution_count": null,
      "outputs": [
        {
          "output_type": "stream",
          "name": "stdout",
          "text": [
            "[0 1 2 3 4 5 6 7 8 9]\n",
            "[0 2 4 6 8]\n"
          ]
        }
      ]
    },
    {
      "cell_type": "code",
      "source": [
        "#Crea un vector con valores que van desde 10 a 49\n",
        "vector = np.arange(10, 50)\n",
        "print(vector)"
      ],
      "metadata": {
        "colab": {
          "base_uri": "https://localhost:8080/"
        },
        "id": "USNOkH9T4cfO",
        "outputId": "b58782ee-c25a-401e-87aa-1d9d8e05dacb"
      },
      "execution_count": null,
      "outputs": [
        {
          "output_type": "stream",
          "name": "stdout",
          "text": [
            "[10 11 12 13 14 15 16 17 18 19 20 21 22 23 24 25 26 27 28 29 30 31 32 33\n",
            " 34 35 36 37 38 39 40 41 42 43 44 45 46 47 48 49]\n"
          ]
        }
      ]
    },
    {
      "cell_type": "code",
      "source": [
        "import numpy as np"
      ],
      "metadata": {
        "id": "d3zBLTfM4l8l"
      },
      "execution_count": null,
      "outputs": []
    },
    {
      "cell_type": "code",
      "source": [
        "# Invertir un vector (el primer elemento pasa a ser el último\n",
        "vector = np.arange(10)\n",
        "vector = vector[::-1]\n",
        "print(vector)"
      ],
      "metadata": {
        "colab": {
          "base_uri": "https://localhost:8080/"
        },
        "id": "QrSAjqNJKI73",
        "outputId": "4fff57d9-34e5-4aac-a3f3-2301f623eecb"
      },
      "execution_count": null,
      "outputs": [
        {
          "output_type": "stream",
          "name": "stdout",
          "text": [
            "[9 8 7 6 5 4 3 2 1 0]\n"
          ]
        }
      ]
    },
    {
      "cell_type": "code",
      "source": [
        "# Crea una matriz de 10x10 con valores enteros aleatorios y encuentra los valores mínimo y máximo\n",
        "matriz = np.random.randint(1, 101, (10, 10))\n",
        "\n",
        "minimo_valor = np.min(matriz)\n",
        "maximo_valor = np.max(matriz)\n",
        "\n",
        "print(\"Matriz aleatoria de 10x10:\")\n",
        "print(matriz)\n",
        "print(\"Valor mínimo en la matriz:\", minimo_valor)\n",
        "print(\"Valor máximo en la matriz:\", maximo_valor)"
      ],
      "metadata": {
        "id": "QCbert6IJoLR",
        "colab": {
          "base_uri": "https://localhost:8080/"
        },
        "outputId": "caa7ee87-5527-4f9e-b16a-6263700291da"
      },
      "execution_count": null,
      "outputs": [
        {
          "output_type": "stream",
          "name": "stdout",
          "text": [
            "Matriz aleatoria de 10x10:\n",
            "[[ 90  58  77  52 100  99  70  94  50  11]\n",
            " [ 15  74  77  40  20  42  33  32  88  49]\n",
            " [ 53  42  51  41  78  92  93  18  75  71]\n",
            " [ 80  12  98  97  45  42  64  67  26  70]\n",
            " [ 36  74   6  73  98  61  93   4  46  93]\n",
            " [ 70  62  49  93  54  38  62  61  23  57]\n",
            " [ 27  67  65  76  41  95  20  84  66  99]\n",
            " [ 77  81  78  15  36  55  97  45  33   4]\n",
            " [ 63  19  21  62  34  60  46  58  42  93]\n",
            " [ 88  40  12  62  54  28  43  75  71  92]]\n",
            "Valor mínimo en la matriz: 4\n",
            "Valor máximo en la matriz: 100\n"
          ]
        }
      ]
    },
    {
      "cell_type": "code",
      "source": [
        "# Crea una matriz de 3x3x3 con valores aleatorios\n",
        "random_array = np.random.rand(3, 3, 3)\n",
        "print(random_array)"
      ],
      "metadata": {
        "colab": {
          "base_uri": "https://localhost:8080/"
        },
        "id": "tENjv0veNQhX",
        "outputId": "36fbd395-adfc-4b67-afe2-688f6d182740"
      },
      "execution_count": null,
      "outputs": [
        {
          "output_type": "stream",
          "name": "stdout",
          "text": [
            "[[[0.71662977 0.33061578 0.09257749]\n",
            "  [0.11740599 0.67227313 0.36602531]\n",
            "  [0.95675114 0.75298519 0.21148805]]\n",
            "\n",
            " [[0.3197382  0.03702846 0.71518198]\n",
            "  [0.88660309 0.17458439 0.80973468]\n",
            "  [0.24483658 0.48549832 0.56587647]]\n",
            "\n",
            " [[0.58670413 0.76233577 0.14290219]\n",
            "  [0.51727896 0.07089388 0.35019269]\n",
            "  [0.81468657 0.23263652 0.47713644]]]\n"
          ]
        }
      ]
    },
    {
      "cell_type": "code",
      "source": [
        "# Reemplazar todos los números impares en arr con -1\n",
        "arr = np.array([1, 2, 3, 4, 5, 6, 7, 8, 9])\n",
        "\n",
        "arr[arr % 2 != 0] = -1\n",
        "\n",
        "print(\"Arreglo con números impares reemplazados por -1:\", arr)"
      ],
      "metadata": {
        "colab": {
          "base_uri": "https://localhost:8080/"
        },
        "id": "S1jcHVvuNYpG",
        "outputId": "bb32b066-9bf9-4b85-bf59-fc99bed43adf"
      },
      "execution_count": null,
      "outputs": [
        {
          "output_type": "stream",
          "name": "stdout",
          "text": [
            "Arreglo con números impares reemplazados por -1: [-1  2 -1  4 -1  6 -1  8 -1]\n"
          ]
        }
      ]
    },
    {
      "cell_type": "code",
      "source": [
        "# Crea una matriz de tipo float\n",
        "float_array = np.array([1.0, 2.5, 3.7, 4.2, 5.9])\n",
        "print(float_array)"
      ],
      "metadata": {
        "colab": {
          "base_uri": "https://localhost:8080/"
        },
        "id": "Gjuogh8_PMdb",
        "outputId": "fb806f00-38dd-455d-ca22-790bb98013a1"
      },
      "execution_count": null,
      "outputs": [
        {
          "output_type": "stream",
          "name": "stdout",
          "text": [
            "[1.  2.5 3.7 4.2 5.9]\n"
          ]
        }
      ]
    },
    {
      "cell_type": "code",
      "source": [
        "# Convertir una matriz 1D en una matriz 2D con 2 filas\n"
      ],
      "metadata": {
        "id": "KXV4A4WCRJP7"
      },
      "execution_count": null,
      "outputs": []
    },
    {
      "cell_type": "code",
      "source": [
        "import numpy as np\n",
        "matriz1d = np.array([1, 2, 3, 4, 5, 6])\n",
        "print('Matriz de 1 dimension')\n",
        "print(matriz1d)\n",
        "# Convertir a matriz 2D con 2 filas\n",
        "print('Matriz de 2 dimensiones')\n",
        "matriz2d = matriz1d.reshape(2, -1)  # -1 infiere el número de columnas\n",
        "\n",
        "print(matriz2d)"
      ],
      "metadata": {
        "colab": {
          "base_uri": "https://localhost:8080/"
        },
        "id": "U1EEqWlKSDqe",
        "outputId": "d2afad4e-f38d-4112-cbe7-566085d32808"
      },
      "execution_count": null,
      "outputs": [
        {
          "output_type": "stream",
          "name": "stdout",
          "text": [
            "Matriz de 1 dimension\n",
            "[1 2 3 4 5 6]\n",
            "Matriz de 2 dimensiones\n",
            "[[1 2 3]\n",
            " [4 5 6]]\n"
          ]
        }
      ]
    },
    {
      "cell_type": "code",
      "source": [
        "# ¿Cómo encontrar valores comunes entre dos matrices?\n",
        "Z1 = np.random.randint(0,10,10)\n",
        "print(Z1)\n",
        "Z2 = np.random.randint(0,10,10)\n",
        "print(Z2)\n",
        "\n",
        "v_comun = np.intersect1d(Z1, Z2)\n",
        "print(v_comun)"
      ],
      "metadata": {
        "colab": {
          "base_uri": "https://localhost:8080/"
        },
        "id": "_X2Gl2YLXxUF",
        "outputId": "673ff5f3-3301-4bd5-97ff-c34a17e65757"
      },
      "execution_count": null,
      "outputs": [
        {
          "output_type": "stream",
          "name": "stdout",
          "text": [
            "[3 4 1 9 5 9 8 8 6 9]\n",
            "[8 4 5 0 0 0 9 7 4 2]\n",
            "[4 5 8 9]\n"
          ]
        }
      ]
    },
    {
      "cell_type": "code",
      "source": [
        "# Considere dos matrices aleatorias A y B, verifique si son iguales\n",
        "A = np.random.randint(0,2,5)\n",
        "B = np.random.randint(0,2,5)\n",
        "son_iguales = np.array_equal(A, B)\n",
        "\n",
        "print(f\"Las matrices son iguales: {son_iguales}\")"
      ],
      "metadata": {
        "colab": {
          "base_uri": "https://localhost:8080/"
        },
        "id": "2Z95oqYRX8PM",
        "outputId": "7095c754-736c-49ee-dd48-8e0582af8d77"
      },
      "execution_count": null,
      "outputs": [
        {
          "output_type": "stream",
          "name": "stdout",
          "text": [
            "Las matrices son iguales: False\n"
          ]
        }
      ]
    },
    {
      "cell_type": "code",
      "source": [
        "# Apilar matrices a y b verticalmente\n",
        "a = np.array([1, 2, 3])\n",
        "b = np.array([4, 5])\n",
        "\n",
        "# Apilar matrices horizontalmente y transponer\n",
        "matriz_apilada = np.hstack((a, b)).T\n",
        "\n",
        "print(matriz_apilada)"
      ],
      "metadata": {
        "colab": {
          "base_uri": "https://localhost:8080/"
        },
        "id": "a4g2A-t5a0v7",
        "outputId": "f0fddfd5-b077-4f6f-a7ae-3d6229f28718"
      },
      "execution_count": null,
      "outputs": [
        {
          "output_type": "stream",
          "name": "stdout",
          "text": [
            "[1 2 3 4 5]\n"
          ]
        }
      ]
    },
    {
      "cell_type": "code",
      "source": [
        "# Apile las matrices ayb horizontalmente.\n",
        "a = np.array([[1, 2], [3, 4]])\n",
        "b = np.array([5, 6])\n",
        "print(a)\n",
        "print(b)\n",
        "matriz_apilada = np.vstack((a, b)).T\n",
        "print('Matriz Apilada')\n",
        "print(matriz_apilada)"
      ],
      "metadata": {
        "colab": {
          "base_uri": "https://localhost:8080/"
        },
        "id": "Mk_L5D2HcrFQ",
        "outputId": "064fc69b-0d69-4c59-f483-f3c4401158bb"
      },
      "execution_count": null,
      "outputs": [
        {
          "output_type": "stream",
          "name": "stdout",
          "text": [
            "[[1 2]\n",
            " [3 4]]\n",
            "[5 6]\n",
            "Matriz Apilada\n",
            "[[1 3 5]\n",
            " [2 4 6]]\n"
          ]
        }
      ]
    },
    {
      "cell_type": "code",
      "source": [
        "# Obtener todos los elementos entre 5 y 10 de la matriz tmp.\n",
        "tmp = np.arange(15)\n",
        "print(tmp)\n",
        "elementos_filtrados = tmp[5:11]\n",
        "print(\"Elementos entre 5 y 10 usando slicing:\", elementos_filtrados)"
      ],
      "metadata": {
        "colab": {
          "base_uri": "https://localhost:8080/"
        },
        "id": "L2E3b38qfiz5",
        "outputId": "c011a62b-9b9e-401f-bd7c-333e4c668072"
      },
      "execution_count": null,
      "outputs": [
        {
          "output_type": "stream",
          "name": "stdout",
          "text": [
            "[ 0  1  2  3  4  5  6  7  8  9 10 11 12 13 14]\n",
            "Elementos entre 5 y 10 usando slicing: [ 5  6  7  8  9 10]\n"
          ]
        }
      ]
    },
    {
      "cell_type": "code",
      "source": [
        "#¿Cómo hacer una función de Python que maneje escalares para que funcione en matrices numerosas?\n",
        "def maxx(x, y):\n",
        "    \"\"\"Get the maximum of two items\"\"\"\n",
        "    if x >= y:\n",
        "        return x\n",
        "    else:\n",
        "        return y\n",
        "\n",
        "maxx(1, 5)"
      ],
      "metadata": {
        "colab": {
          "base_uri": "https://localhost:8080/"
        },
        "id": "aXv3V4HLgvgM",
        "outputId": "18c9a82e-2a1d-4ca4-f166-892138303203"
      },
      "execution_count": null,
      "outputs": [
        {
          "output_type": "execute_result",
          "data": {
            "text/plain": [
              "5"
            ]
          },
          "metadata": {},
          "execution_count": 23
        }
      ]
    }
  ]
}