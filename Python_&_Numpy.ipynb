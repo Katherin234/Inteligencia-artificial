{
  "nbformat": 4,
  "nbformat_minor": 0,
  "metadata": {
    "colab": {
      "provenance": [],
      "authorship_tag": "ABX9TyN4Jg+hQryHBGRTR4g9dHL8",
      "include_colab_link": true
    },
    "kernelspec": {
      "name": "python3",
      "display_name": "Python 3"
    },
    "language_info": {
      "name": "python"
    }
  },
  "cells": [
    {
      "cell_type": "markdown",
      "metadata": {
        "id": "view-in-github",
        "colab_type": "text"
      },
      "source": [
        "<a href=\"https://colab.research.google.com/github/Katherin234/Inteligencia-artificial/blob/main/Python_%26_Numpy.ipynb\" target=\"_parent\"><img src=\"https://colab.research.google.com/assets/colab-badge.svg\" alt=\"Open In Colab\"/></a>"
      ]
    },
    {
      "cell_type": "code",
      "execution_count": 15,
      "metadata": {
        "colab": {
          "base_uri": "https://localhost:8080/"
        },
        "id": "ZgocKigKuhoL",
        "outputId": "1e607c32-599d-478d-c58d-8284f1152966"
      },
      "outputs": [
        {
          "output_type": "stream",
          "name": "stdout",
          "text": [
            "1.25.2\n"
          ]
        }
      ],
      "source": [
        "# Importar numpy ver la version\n",
        "import numpy as np\n",
        "\n",
        "version = np.__version__\n",
        "print(version)"
      ]
    },
    {
      "cell_type": "code",
      "source": [
        "#Crear una matriz de una dimension\n",
        "Matriz1D = np.arange(10)\n",
        "print(Matriz1D)\n"
      ],
      "metadata": {
        "colab": {
          "base_uri": "https://localhost:8080/"
        },
        "id": "GABrMoI5unpB",
        "outputId": "f517fe83-dfde-471a-fdd2-0c4e5a78a085"
      },
      "execution_count": 16,
      "outputs": [
        {
          "output_type": "stream",
          "name": "stdout",
          "text": [
            "[0 1 2 3 4 5 6 7 8 9]\n"
          ]
        }
      ]
    },
    {
      "cell_type": "code",
      "source": [
        "#Cree un vector aleatorio de tamaño 10 y reemplace el valor máximo por 0\n",
        "vector = np.random.randint(0, 100,(10))\n",
        "print(vector)\n",
        "valor_maximo = vector.max()\n",
        "vector[vector == valor_maximo] = 0\n",
        "print(vector)"
      ],
      "metadata": {
        "colab": {
          "base_uri": "https://localhost:8080/"
        },
        "id": "QWHW7qJ-yB13",
        "outputId": "8bc6a799-51f6-4835-f6e7-383b37cdb4d6"
      },
      "execution_count": 17,
      "outputs": [
        {
          "output_type": "stream",
          "name": "stdout",
          "text": [
            "[32 37 46 52 42 27 15 97 30 70]\n",
            "[32 37 46 52 42 27 15  0 30 70]\n"
          ]
        }
      ]
    },
    {
      "cell_type": "code",
      "source": [
        "#Imprima el número 8 de la siguiente matriz:\n",
        "matriz = np.array([[1,2,3,4,5], [6,7,8,9,10]])\n",
        "print(matriz[1,2])"
      ],
      "metadata": {
        "colab": {
          "base_uri": "https://localhost:8080/"
        },
        "id": "yU9J66TfysNw",
        "outputId": "9ad87c53-c33b-4b06-fec8-6fba28bb28ea"
      },
      "execution_count": 18,
      "outputs": [
        {
          "output_type": "stream",
          "name": "stdout",
          "text": [
            "8\n"
          ]
        }
      ]
    },
    {
      "cell_type": "code",
      "source": [
        "#Imprima los números [3, 4, 5] de la siguiente matriz:\n",
        "matriz = np.arange(8)\n",
        "print(matriz[3:6])"
      ],
      "metadata": {
        "colab": {
          "base_uri": "https://localhost:8080/"
        },
        "id": "eo0Spq8i18RC",
        "outputId": "566fc48d-a1ba-4fe3-ae1c-a9d4234988bd"
      },
      "execution_count": 19,
      "outputs": [
        {
          "output_type": "stream",
          "name": "stdout",
          "text": [
            "[3 4 5]\n"
          ]
        }
      ]
    },
    {
      "cell_type": "code",
      "source": [
        "# Imprime los últimos 4 números de la siguiente matriz:\n",
        "matriz = np.arange(8)\n",
        "print(matriz)\n",
        "\n",
        "print(matriz[6])\n",
        "\n",
        "print(matriz[-4:])"
      ],
      "metadata": {
        "colab": {
          "base_uri": "https://localhost:8080/"
        },
        "id": "wMjWlIJP264h",
        "outputId": "44d6e0a4-5788-4bd5-ed6d-285833b0b068"
      },
      "execution_count": 20,
      "outputs": [
        {
          "output_type": "stream",
          "name": "stdout",
          "text": [
            "[0 1 2 3 4 5 6 7]\n",
            "6\n",
            "[4 5 6 7]\n"
          ]
        }
      ]
    },
    {
      "cell_type": "code",
      "source": [
        "#Crea una matriz numérica de 3 × 3 de todos los True\n",
        "matriz = np.full((3, 3), True, dtype=bool)\n",
        "print(matriz)"
      ],
      "metadata": {
        "colab": {
          "base_uri": "https://localhost:8080/"
        },
        "id": "xCCWnke-3B0h",
        "outputId": "245ece5c-c9e8-4b0f-9177-e1ceee28d388"
      },
      "execution_count": 21,
      "outputs": [
        {
          "output_type": "stream",
          "name": "stdout",
          "text": [
            "[[ True  True  True]\n",
            " [ True  True  True]\n",
            " [ True  True  True]]\n"
          ]
        }
      ]
    },
    {
      "cell_type": "code",
      "source": [
        "#Extrae todos los números pares de arr\n",
        "\n",
        "arr = np.arange(10)\n",
        "print(arr)\n",
        "impares = arr [arr % 2!= 0]\n",
        "print(impares)"
      ],
      "metadata": {
        "colab": {
          "base_uri": "https://localhost:8080/"
        },
        "id": "-TfPg0Ib3mv3",
        "outputId": "6bbcabe7-1544-460d-a657-e6a42ab9e2f7"
      },
      "execution_count": 22,
      "outputs": [
        {
          "output_type": "stream",
          "name": "stdout",
          "text": [
            "[0 1 2 3 4 5 6 7 8 9]\n",
            "[1 3 5 7 9]\n"
          ]
        }
      ]
    },
    {
      "cell_type": "code",
      "source": [
        "#Crea un vector con valores que van desde 10 a 49\n",
        "vector = np.arange(10, 50)\n",
        "print(vector)"
      ],
      "metadata": {
        "colab": {
          "base_uri": "https://localhost:8080/"
        },
        "id": "USNOkH9T4cfO",
        "outputId": "705c1d6b-4ac9-4509-c178-8576cdaf3bed"
      },
      "execution_count": 23,
      "outputs": [
        {
          "output_type": "stream",
          "name": "stdout",
          "text": [
            "[10 11 12 13 14 15 16 17 18 19 20 21 22 23 24 25 26 27 28 29 30 31 32 33\n",
            " 34 35 36 37 38 39 40 41 42 43 44 45 46 47 48 49]\n"
          ]
        }
      ]
    },
    {
      "cell_type": "code",
      "source": [
        "import numpy as np"
      ],
      "metadata": {
        "id": "d3zBLTfM4l8l"
      },
      "execution_count": 24,
      "outputs": []
    },
    {
      "cell_type": "code",
      "source": [
        "# Invertir un vector (el primer elemento pasa a ser el último\n",
        "vector = np.arange(10)\n",
        "vector = vector[::-1]\n",
        "print(vector)"
      ],
      "metadata": {
        "colab": {
          "base_uri": "https://localhost:8080/"
        },
        "id": "QrSAjqNJKI73",
        "outputId": "9acf6aa1-7a4e-4399-a415-3ce8f0d72e6f"
      },
      "execution_count": 25,
      "outputs": [
        {
          "output_type": "stream",
          "name": "stdout",
          "text": [
            "[9 8 7 6 5 4 3 2 1 0]\n"
          ]
        }
      ]
    },
    {
      "cell_type": "code",
      "source": [
        "# Crea una matriz de 10x10 con valores enteros aleatorios y encuentra los valores mínimo y máximo\n",
        "matriz = np.random.randint(1, 101, (10, 10))\n",
        "\n",
        "minimo_valor = np.min(matriz)\n",
        "maximo_valor = np.max(matriz)\n",
        "\n",
        "print(\"Matriz aleatoria de 10x10:\")\n",
        "print(matriz)\n",
        "print(\"Valor mínimo en la matriz:\", minimo_valor)\n",
        "print(\"Valor máximo en la matriz:\", maximo_valor)"
      ],
      "metadata": {
        "id": "QCbert6IJoLR",
        "colab": {
          "base_uri": "https://localhost:8080/"
        },
        "outputId": "44de3858-31f0-4241-edf1-99de0299d13a"
      },
      "execution_count": 26,
      "outputs": [
        {
          "output_type": "stream",
          "name": "stdout",
          "text": [
            "Matriz aleatoria de 10x10:\n",
            "[[ 98  32  40  33   4 100  65  86  49  46]\n",
            " [ 39  59  65  19  68  84  10  63  84  72]\n",
            " [ 24  29   7  53  70  96  60  51  24  68]\n",
            " [ 47  75  24  50  86  17  47  83  74  84]\n",
            " [  7  19  24  29   8  29  15  96  85  96]\n",
            " [ 61   9  93  60  24  58  86  42  25  15]\n",
            " [ 18  24  34  45  74  78  74  67  57  14]\n",
            " [ 57  92  98   2  67  68  65  67  53  43]\n",
            " [ 34  69  18  43  19  96  54  39  99  22]\n",
            " [ 33  49  97  91  32  44  23  83  29  31]]\n",
            "Valor mínimo en la matriz: 2\n",
            "Valor máximo en la matriz: 100\n"
          ]
        }
      ]
    },
    {
      "cell_type": "code",
      "source": [
        "# Crea una matriz de 3x3x3 con valores aleatorios\n",
        "random_array = np.random.rand(3, 3, 3)\n",
        "print(random_array)"
      ],
      "metadata": {
        "colab": {
          "base_uri": "https://localhost:8080/"
        },
        "id": "tENjv0veNQhX",
        "outputId": "610ecdc5-0a2f-4862-8726-1b40d23202ce"
      },
      "execution_count": 27,
      "outputs": [
        {
          "output_type": "stream",
          "name": "stdout",
          "text": [
            "[[[0.92229912 0.83738682 0.52180166]\n",
            "  [0.43830164 0.55383579 0.96439616]\n",
            "  [0.49992562 0.05049517 0.12541107]]\n",
            "\n",
            " [[0.25674144 0.10010068 0.21452702]\n",
            "  [0.67778516 0.02803813 0.83684381]\n",
            "  [0.88157876 0.66495005 0.35242634]]\n",
            "\n",
            " [[0.05995034 0.32005974 0.31271634]\n",
            "  [0.23528981 0.11349036 0.94233363]\n",
            "  [0.15897654 0.79772062 0.21219728]]]\n"
          ]
        }
      ]
    },
    {
      "cell_type": "code",
      "source": [
        "# Reemplazar todos los números impares en arr con -1\n",
        "arr = np.array([1, 2, 3, 4, 5, 6, 7, 8, 9])\n",
        "\n",
        "arr[arr % 2 != 0] = -1\n",
        "\n",
        "print(\"Arreglo con números impares reemplazados por -1:\", arr)"
      ],
      "metadata": {
        "colab": {
          "base_uri": "https://localhost:8080/"
        },
        "id": "S1jcHVvuNYpG",
        "outputId": "79c5c0b3-b7ff-47e1-8802-c6202433c427"
      },
      "execution_count": 28,
      "outputs": [
        {
          "output_type": "stream",
          "name": "stdout",
          "text": [
            "Arreglo con números impares reemplazados por -1: [-1  2 -1  4 -1  6 -1  8 -1]\n"
          ]
        }
      ]
    },
    {
      "cell_type": "code",
      "source": [
        "# Crea una matriz de tipo float\n",
        "float_array = np.array([1.0, 2.5, 3.7, 4.2, 5.9])\n",
        "print(float_array)"
      ],
      "metadata": {
        "colab": {
          "base_uri": "https://localhost:8080/"
        },
        "id": "Gjuogh8_PMdb",
        "outputId": "74a39e26-f63f-4951-9074-0f45cc99654e"
      },
      "execution_count": 29,
      "outputs": [
        {
          "output_type": "stream",
          "name": "stdout",
          "text": [
            "[1.  2.5 3.7 4.2 5.9]\n"
          ]
        }
      ]
    },
    {
      "cell_type": "code",
      "source": [
        "# Convertir una matriz 1D en una matriz 2D con 2 filas\n"
      ],
      "metadata": {
        "id": "KXV4A4WCRJP7"
      },
      "execution_count": 30,
      "outputs": []
    },
    {
      "cell_type": "code",
      "source": [
        "import numpy as np\n",
        "matriz1d = np.array([1, 2, 3, 4, 5, 6])\n",
        "print('Matriz de 1 dimension')\n",
        "print(matriz1d)\n",
        "# Convertir a matriz 2D con 2 filas\n",
        "print('Matriz de 2 dimensiones')\n",
        "matriz2d = matriz1d.reshape(2, -1)  # -1 infiere el número de columnas\n",
        "\n",
        "print(matriz2d)"
      ],
      "metadata": {
        "colab": {
          "base_uri": "https://localhost:8080/"
        },
        "id": "U1EEqWlKSDqe",
        "outputId": "f3c2c2b8-13d3-408e-d109-2b8e4ac0010c"
      },
      "execution_count": 31,
      "outputs": [
        {
          "output_type": "stream",
          "name": "stdout",
          "text": [
            "Matriz de 1 dimension\n",
            "[1 2 3 4 5 6]\n",
            "Matriz de 2 dimensiones\n",
            "[[1 2 3]\n",
            " [4 5 6]]\n"
          ]
        }
      ]
    },
    {
      "cell_type": "code",
      "source": [
        "# ¿Cómo encontrar valores comunes entre dos matrices?\n",
        "Z1 = np.random.randint(0,10,10)\n",
        "print(Z1)\n",
        "Z2 = np.random.randint(0,10,10)\n",
        "print(Z2)\n",
        "\n",
        "v_comun = np.intersect1d(Z1, Z2)\n",
        "print(v_comun)"
      ],
      "metadata": {
        "colab": {
          "base_uri": "https://localhost:8080/"
        },
        "id": "_X2Gl2YLXxUF",
        "outputId": "ea46ace8-4d57-460b-bf19-8279dba5e7f2"
      },
      "execution_count": 32,
      "outputs": [
        {
          "output_type": "stream",
          "name": "stdout",
          "text": [
            "[1 4 0 0 9 2 7 6 3 7]\n",
            "[3 2 8 6 2 8 8 9 9 0]\n",
            "[0 2 3 6 9]\n"
          ]
        }
      ]
    },
    {
      "cell_type": "code",
      "source": [
        "# Considere dos matrices aleatorias A y B, verifique si son iguales\n",
        "A = np.random.randint(0,2,5)\n",
        "B = np.random.randint(0,2,5)\n",
        "son_iguales = np.array_equal(A, B)\n",
        "\n",
        "print(f\"Las matrices son iguales: {son_iguales}\")"
      ],
      "metadata": {
        "colab": {
          "base_uri": "https://localhost:8080/"
        },
        "id": "2Z95oqYRX8PM",
        "outputId": "1c2b1a5e-3459-4685-9084-8a32a234c068"
      },
      "execution_count": 33,
      "outputs": [
        {
          "output_type": "stream",
          "name": "stdout",
          "text": [
            "Las matrices son iguales: False\n"
          ]
        }
      ]
    },
    {
      "cell_type": "code",
      "source": [
        "# Apilar matrices a y b verticalmente\n",
        "a = np.array([1, 2, 3])\n",
        "b = np.array([4, 5])\n",
        "\n",
        "# Apilar matrices horizontalmente y transponer\n",
        "matriz_apilada = np.hstack((a, b)).T\n",
        "\n",
        "print(matriz_apilada)"
      ],
      "metadata": {
        "colab": {
          "base_uri": "https://localhost:8080/"
        },
        "id": "a4g2A-t5a0v7",
        "outputId": "09abb9a4-073b-4eee-cb06-0ef027921b2f"
      },
      "execution_count": 34,
      "outputs": [
        {
          "output_type": "stream",
          "name": "stdout",
          "text": [
            "[1 2 3 4 5]\n"
          ]
        }
      ]
    },
    {
      "cell_type": "code",
      "source": [
        "# Apile las matrices ayb horizontalmente.\n",
        "a = np.array([[1, 2], [3, 4]])\n",
        "b = np.array([5, 6])\n",
        "print(a)\n",
        "print(b)\n",
        "matriz_apilada = np.vstack((a, b)).T\n",
        "print('Matriz Apilada')\n",
        "print(matriz_apilada)"
      ],
      "metadata": {
        "colab": {
          "base_uri": "https://localhost:8080/"
        },
        "id": "Mk_L5D2HcrFQ",
        "outputId": "718dba5b-0acb-4736-ab75-ecd3f0e049b8"
      },
      "execution_count": 35,
      "outputs": [
        {
          "output_type": "stream",
          "name": "stdout",
          "text": [
            "[[1 2]\n",
            " [3 4]]\n",
            "[5 6]\n",
            "Matriz Apilada\n",
            "[[1 3 5]\n",
            " [2 4 6]]\n"
          ]
        }
      ]
    },
    {
      "cell_type": "code",
      "source": [
        "# Obtener todos los elementos entre 5 y 10 de la matriz tmp.\n",
        "tmp = np.arange(15)\n",
        "print(tmp)\n",
        "elementos_filtrados = tmp[5:11]\n",
        "print(elementos_filtrados)"
      ],
      "metadata": {
        "colab": {
          "base_uri": "https://localhost:8080/"
        },
        "id": "L2E3b38qfiz5",
        "outputId": "8aabf9e5-baa8-44e8-9d95-10061f1595ea"
      },
      "execution_count": 36,
      "outputs": [
        {
          "output_type": "stream",
          "name": "stdout",
          "text": [
            "[ 0  1  2  3  4  5  6  7  8  9 10 11 12 13 14]\n",
            "[ 5  6  7  8  9 10]\n"
          ]
        }
      ]
    },
    {
      "cell_type": "code",
      "source": [
        "#¿Cómo hacer una función de Python que maneje escalares para que funcione en matrices numerosas?\n",
        "def maxx(x, y):\n",
        "    \"\"\"Get the maximum of two items\"\"\"\n",
        "    if x >= y:\n",
        "        return x\n",
        "    else:\n",
        "        return y\n",
        "\n",
        "maxx(1, 5)"
      ],
      "metadata": {
        "colab": {
          "base_uri": "https://localhost:8080/"
        },
        "id": "aXv3V4HLgvgM",
        "outputId": "2a2cdbd5-5c0a-4253-b6e1-21330e5e2433"
      },
      "execution_count": 37,
      "outputs": [
        {
          "output_type": "execute_result",
          "data": {
            "text/plain": [
              "5"
            ]
          },
          "metadata": {},
          "execution_count": 37
        }
      ]
    },
    {
      "cell_type": "code",
      "source": [
        "# Vectorizar la función maxx\n",
        "pair_max = np.vectorize(maxx)\n",
        "\n",
        "a = np.array([5, 7, 9, 8, 6, 4, 5])\n",
        "b = np.array([6, 3, 4, 8, 9, 7, 1])\n",
        "\n",
        "resultado = pair_max(a, b)\n",
        "\n",
        "print(\"Array a:\", a)\n",
        "print(\"Array b:\", b)\n",
        "print(\"\\nResultado:\", resultado)\n",
        ""
      ],
      "metadata": {
        "colab": {
          "base_uri": "https://localhost:8080/"
        },
        "id": "wh5EsXIoYtKO",
        "outputId": "7dd21848-a307-4185-bace-edf3fc11d4a0"
      },
      "execution_count": 38,
      "outputs": [
        {
          "output_type": "stream",
          "name": "stdout",
          "text": [
            "Array a: [5 7 9 8 6 4 5]\n",
            "Array b: [6 3 4 8 9 7 1]\n",
            "\n",
            "Resultado: [6 7 9 8 9 7 5]\n"
          ]
        }
      ]
    },
    {
      "cell_type": "code",
      "source": [
        "arr = np.arange(9).reshape(3,3)\n",
        "print(arr)\n",
        "\n",
        "# Intercambiar columnas 1 y 2\n",
        "arr[:, [1, 2]] = arr[:, [2, 1]]\n",
        "\n",
        "print(\"\\nColumna 1 y 2 intercambiadas:\")\n",
        "print(arr)"
      ],
      "metadata": {
        "colab": {
          "base_uri": "https://localhost:8080/"
        },
        "id": "yPKDmjPTY_aR",
        "outputId": "2c159833-9eb6-4efb-e5a0-be7c6965dee2"
      },
      "execution_count": 39,
      "outputs": [
        {
          "output_type": "stream",
          "name": "stdout",
          "text": [
            "[[0 1 2]\n",
            " [3 4 5]\n",
            " [6 7 8]]\n",
            "\n",
            "Columna 1 y 2 intercambiadas:\n",
            "[[0 2 1]\n",
            " [3 5 4]\n",
            " [6 8 7]]\n"
          ]
        }
      ]
    },
    {
      "cell_type": "code",
      "source": [
        "# Create a 2D array of shape 5x3 to contain random decimal numbers between 5 and 10.\n",
        "# Hint\n",
        "# The desired Output should be like the following one:\n",
        "#  [[ 8.50061025  9.10531502  6.85867783]\n",
        "#   [ 9.76262069  9.87717411  7.13466701]\n",
        "#   [ 7.48966403  8.33409158  6.16808631]\n",
        "#   [ 7.75010551  9.94535696  5.27373226]\n",
        "#   [ 8.0850361   5.56165518  7.31244004]]\n",
        "\n",
        "\n",
        "array_2d = np.random.uniform(5, 10, size=(5, 3))\n",
        "\n",
        "print(array_2d)"
      ],
      "metadata": {
        "colab": {
          "base_uri": "https://localhost:8080/"
        },
        "id": "BSi1KEXIZFXY",
        "outputId": "37d48e5d-e465-4bd2-b7df-531669a731fd"
      },
      "execution_count": 40,
      "outputs": [
        {
          "output_type": "stream",
          "name": "stdout",
          "text": [
            "[[8.21416259 6.76757979 8.73174301]\n",
            " [9.08209193 9.30406972 5.69664905]\n",
            " [6.4228855  6.28527069 6.29610748]\n",
            " [6.80740665 8.28974236 9.36190281]\n",
            " [8.61749247 9.96754091 5.92484704]]\n"
          ]
        }
      ]
    }
  ]
}